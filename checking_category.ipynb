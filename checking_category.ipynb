{
 "cells": [
  {
   "cell_type": "code",
   "execution_count": 5,
   "id": "eaf90a6d",
   "metadata": {},
   "outputs": [],
   "source": [
    "import json\n",
    "\n",
    "def check_product_category(product_category, file_path):\n",
    "    i = 0;\n",
    "    with open(file_path, 'r') as file:\n",
    "        data = json.load(file)\n",
    "        for d in data:\n",
    "            if product_category in d['product_category']:\n",
    "                i = i + 1\n",
    "                if d[\"total_price\"] != \".\":\n",
    "#                     print(d[\"total_price\"])\n",
    "                    print(d[\"product_url\"])\n",
    "#                 return True\n",
    "            else:\n",
    "                i = i\n",
    "#                 return False\n",
    "    print(\"Total items are : \", i)\n"
   ]
  },
  {
   "cell_type": "code",
   "execution_count": 6,
   "id": "49a2fb81",
   "metadata": {},
   "outputs": [
    {
     "name": "stdout",
     "output_type": "stream",
     "text": [
      "https://www.samsclub.com/p/la-dolce-vita-classic-almond-biscotti/P03008582?xid=plp_product_2\n",
      "https://www.samsclub.com/p/moonpie-chocolate-double-decker-moonpies-24-ct/158774?xid=plp_product_37\n",
      "https://www.samsclub.com/p/duchess-honey-buns-3oz-12pk/163882?xid=plp_product_1\n",
      "https://www.samsclub.com/p/cooper-street-blueberry-lemon-cookies-18-oz/P03001540?xid=plp_product_27\n",
      "https://www.samsclub.com/p/belvita-blueberry-breakfast-biscuits-25-ct/prod23280060?xid=plp_product_2\n",
      "https://www.samsclub.com/p/hostess-danish-claw-variety-pack-24ct/P03001740?xid=plp_product_4\n",
      "https://www.samsclub.com/p/duchess-mini-chocolate-donuts-12-36-oz/162344?xid=plp_product_5\n",
      "https://www.samsclub.com/p/hostess-cinnamon-streusel-coffee-cake-32ct/prod23570088?xid=plp_product_6\n",
      "https://www.samsclub.com/p/hostess-danish-claw-variety-pack-24ct/P03001740?xid=plp_product_3\n",
      "https://www.samsclub.com/p/cloverhill-big-texas-cinnamon-roll-12-ct/161811?xid=plp_product_4\n",
      "https://www.samsclub.com/p/duchess-mini-sugar-donuts-12-3-oz/161770?xid=plp_product_5\n",
      "https://www.samsclub.com/p/hostess-variety-pack-ding-dongs-twinkie-32-ct/prod21930040?xid=plp_product_6\n",
      "https://www.samsclub.com/p/duchess-mini-chocolate-donuts-12-36-oz/162344?xid=plp_product_7\n",
      "https://www.samsclub.com/p/moonpie-chocolate-double-decker-moonpies-24-ct/158774?xid=plp_product_16\n",
      "Total items are :  35\n",
      "Product category does not exist.\n"
     ]
    }
   ],
   "source": [
    "product_category = \"Snacks\"\n",
    "file_path = \"data_in_json.json\"\n",
    "\n",
    "category_exists = check_product_category(product_category, file_path)\n",
    "if category_exists:\n",
    "    print(\"Product category exists.\")\n",
    "else:\n",
    "    print(\"Product category does not exist.\")\n"
   ]
  },
  {
   "cell_type": "code",
   "execution_count": null,
   "id": "ec8696bd",
   "metadata": {},
   "outputs": [],
   "source": []
  }
 ],
 "metadata": {
  "kernelspec": {
   "display_name": "Python 3 (ipykernel)",
   "language": "python",
   "name": "python3"
  },
  "language_info": {
   "codemirror_mode": {
    "name": "ipython",
    "version": 3
   },
   "file_extension": ".py",
   "mimetype": "text/x-python",
   "name": "python",
   "nbconvert_exporter": "python",
   "pygments_lexer": "ipython3",
   "version": "3.10.8"
  }
 },
 "nbformat": 4,
 "nbformat_minor": 5
}
