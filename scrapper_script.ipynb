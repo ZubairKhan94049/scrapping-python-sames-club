{
 "cells": [
  {
   "cell_type": "code",
   "execution_count": 1,
   "id": "0a499abf",
   "metadata": {},
   "outputs": [],
   "source": [
    "import re\n",
    "import os\n",
    "import json\n",
    "import random\n",
    "import selenium\n",
    "import pandas as pd\n",
    "from time import sleep\n",
    "from selenium import webdriver\n",
    "import undetected_chromedriver as uc\n",
    "from IPython.display import clear_output\n",
    "from selenium.webdriver.common.by import By\n",
    "from selenium.webdriver.common.keys import Keys\n",
    "from selenium.webdriver.chrome.options import Options\n",
    "from selenium.webdriver.chrome.service import Service\n",
    "from selenium.webdriver.support.ui import WebDriverWait\n",
    "from webdriver_manager.chrome import ChromeDriverManager\n",
    "from selenium.webdriver.common.action_chains import ActionChains\n",
    "from selenium.webdriver.support import expected_conditions as EC"
   ]
  },
  {
   "cell_type": "code",
   "execution_count": 2,
   "id": "1c63ccf8",
   "metadata": {},
   "outputs": [],
   "source": [
    "#Converting panda's dataframe to list\n",
    "df = pd.read_csv('all_links.csv', header=None)\n",
    "links = []\n",
    "\n",
    "for i in range(len(df)):\n",
    "    links.append(df[0][i])"
   ]
  },
  {
   "cell_type": "code",
   "execution_count": 3,
   "id": "b481dfa8",
   "metadata": {},
   "outputs": [],
   "source": [
    "##Function that generate request delay \n",
    "def give_me_random_number():\n",
    "    return int(random.uniform(121, 140))\n",
    "\n",
    "## Function the find digits in other information\n",
    "def has_digits(string):\n",
    "    return bool(re.search(r'\\d', string))"
   ]
  },
  {
   "cell_type": "code",
   "execution_count": 4,
   "id": "1170f9b8",
   "metadata": {},
   "outputs": [],
   "source": [
    "driver = uc.Chrome()\n",
    "driver.maximize_window()"
   ]
  },
  {
   "cell_type": "markdown",
   "id": "386cea29",
   "metadata": {},
   "source": [
    "# Product Title"
   ]
  },
  {
   "cell_type": "code",
   "execution_count": 5,
   "id": "88d66a38",
   "metadata": {
    "scrolled": true
   },
   "outputs": [],
   "source": [
    "def giveProductName(driver):\n",
    "    product_name = ''\n",
    "    try:\n",
    "        product_name = driver.find_element(By.XPATH, '//div[@class=\"sc-pc-title-full-desktop\"]//h1').text\n",
    "        return product_name\n",
    "    except:\n",
    "        return product_name"
   ]
  },
  {
   "cell_type": "markdown",
   "id": "5ce30743",
   "metadata": {},
   "source": [
    "# Other Information"
   ]
  },
  {
   "cell_type": "code",
   "execution_count": 6,
   "id": "bd2ea750",
   "metadata": {},
   "outputs": [],
   "source": [
    "# Extract Other Info\n",
    "def giveOtherInformation(driver):\n",
    "    other = {}\n",
    "    other['owner'] = ''\n",
    "    other['model_number'] = ''\n",
    "    other['item_number'] = ''\n",
    "    try:\n",
    "        other['item_number'] = driver.find_element(By.XPATH, \"//div[@class='sc-product-header-item-number']\").text\n",
    "    except:\n",
    "        other['item_number'] = \"####\"\n",
    "\n",
    "    try:\n",
    "        product_detailes = driver.find_elements(By.XPATH, \"//span[@class='sc-product-header-item-number']\")\n",
    "        for p in product_detailes:\n",
    "            if (has_digits(p.text)):\n",
    "                other['model_number'] = p.text\n",
    "            else:\n",
    "                other['owner'] = p.text\n",
    "    except:\n",
    "        other['model_number'] = \"NOT\"\n",
    "        other['owner'] = \"NOT\"\n",
    "    return other"
   ]
  },
  {
   "cell_type": "markdown",
   "id": "07acaf3c",
   "metadata": {},
   "source": [
    "# Prices"
   ]
  },
  {
   "cell_type": "code",
   "execution_count": 7,
   "id": "339dd90f",
   "metadata": {},
   "outputs": [],
   "source": [
    "def givePriceDetailes(driver):\n",
    "    per_unit_price = ''\n",
    "    currency = ''\n",
    "    whole_price = ''\n",
    "    price_mantisa = ''\n",
    "    try:\n",
    "        per_unit_price = driver.find_element(By.XPATH, \"//div[@class='sc-pc-channel-price']//div/span[2][@class='sc-pc-single-price-inline-price']\").text  ## $0.94/ea\n",
    "        currency = driver.find_element(By.CLASS_NAME, \"Price-currency\").text                         ## $\n",
    "        whole_price = driver.find_element(By.XPATH, \"//div[@class='sc-pc-channel-price']//span[@class='Price-characteristic']\").text                ## 22\n",
    "        price_mantisa = driver.find_element(By.XPATH, \"//div[@class='sc-pc-channel-price']//span[@class='Price-mantissa']\").text                    ## 54\n",
    "        return per_unit_price, currency+whole_price+'.'+price_mantisa\n",
    "    except:\n",
    "        return per_unit_price, currency+whole_price+'.'+price_mantisa        "
   ]
  },
  {
   "cell_type": "markdown",
   "id": "5c66996c",
   "metadata": {},
   "source": [
    "# Scrap All main and sub images"
   ]
  },
  {
   "cell_type": "code",
   "execution_count": 8,
   "id": "3f18beb1",
   "metadata": {},
   "outputs": [],
   "source": [
    "def giveImagesLinks(driver):\n",
    "    images = []\n",
    "    try:\n",
    "        sub_images = driver.find_elements(By.XPATH, \"//img[@class='sc-carousel-child-image-thumb sc-image-wrapper-full-res sc-image-wrapper-full-res-loaded']\")\n",
    "        main_image = driver.find_element(By.XPATH, \"//img[@class='sc-image-viewer-img sc-viewer-zoom-img']\").get_attribute(\"src\")\n",
    "        images.append(main_image)\n",
    "        for image in sub_images:\n",
    "            images.append(image.get_attribute(\"src\"))  \n",
    "        return images\n",
    "    except:\n",
    "        return images"
   ]
  },
  {
   "cell_type": "markdown",
   "id": "15878f13",
   "metadata": {},
   "source": [
    "# Scrap Categories "
   ]
  },
  {
   "cell_type": "code",
   "execution_count": 9,
   "id": "9c6c80c6",
   "metadata": {},
   "outputs": [],
   "source": [
    "def giveCategories(driver):\n",
    "    product_category = []\n",
    "    try:\n",
    "        categories = driver.find_elements(By.XPATH, \"//li[@property='itemListElement']//a\")\n",
    "        for category in categories:\n",
    "            product_category.append(category.text)\n",
    "        product_category.pop(0)\n",
    "        return product_category\n",
    "    except:\n",
    "        return product_category"
   ]
  },
  {
   "cell_type": "markdown",
   "id": "d0dcd042",
   "metadata": {},
   "source": [
    "# Heighlishgsts"
   ]
  },
  {
   "cell_type": "code",
   "execution_count": 10,
   "id": "f3d4aab6",
   "metadata": {},
   "outputs": [],
   "source": [
    "def giveHighlights(driver):\n",
    "    highlights = []\n",
    "    try:\n",
    "        all_highlights = driver.find_elements(By.XPATH, \"//div[@class='sc-pc-about-this-item']//div//ul//li\")\n",
    "        for highlight in all_highlights:\n",
    "            highlights.append(highlight.text)\n",
    "        ## Having different path\n",
    "        if len(highlights) == 0:\n",
    "            all_highlights = driver.find_elements(By.XPATH, \"//div[@class='sc-pc-about-this-item']//div//li\")\n",
    "            for highlight in all_highlights:\n",
    "                highlights.append(highlight.text) \n",
    "        ## if having not ul or li\n",
    "        if len(highlights) == 0:\n",
    "            all_highlights = driver.find_elements(By.XPATH, \"//div[@class='sc-pc-about-this-item']//div\")\n",
    "            highlights.append(all_highlights.text)\n",
    "        return highlights\n",
    "    except:\n",
    "        return highlights"
   ]
  },
  {
   "cell_type": "markdown",
   "id": "7d4ef747",
   "metadata": {},
   "source": [
    "# Description"
   ]
  },
  {
   "cell_type": "code",
   "execution_count": 11,
   "id": "a7cfc48f",
   "metadata": {},
   "outputs": [],
   "source": [
    "def giveDescription(driver):\n",
    "    description = ''\n",
    "    try:\n",
    "        description = driver.find_element(By.CLASS_NAME, \"sc-description-about-long\").text\n",
    "        return description\n",
    "    except:\n",
    "        return description"
   ]
  },
  {
   "cell_type": "markdown",
   "id": "5de7d087",
   "metadata": {},
   "source": [
    "# Counter"
   ]
  },
  {
   "cell_type": "code",
   "execution_count": 12,
   "id": "906f79db",
   "metadata": {},
   "outputs": [],
   "source": [
    "def startCounter():\n",
    "    delay = give_me_random_number()\n",
    "    for j in range(delay):\n",
    "        print(delay, \" -:- \",j+1)\n",
    "        sleep(1)\n",
    "        if j < delay - 2:\n",
    "            clear_output(wait=True)"
   ]
  },
  {
   "cell_type": "markdown",
   "id": "6b45dc31",
   "metadata": {},
   "source": [
    "# Main Part"
   ]
  },
  {
   "cell_type": "code",
   "execution_count": null,
   "id": "9ac3b83b",
   "metadata": {
    "scrolled": true
   },
   "outputs": [
    {
     "name": "stdout",
     "output_type": "stream",
     "text": [
      "135  -:-  22\n"
     ]
    }
   ],
   "source": [
    "final_data = []\n",
    "\n",
    "##This code is use to find the data_in_json.json file \n",
    "## If it exest it will append fila_data from previous data and generate new list of scrapped data \n",
    "## AND WILL SKIPP ALL LINKS THAT WERE SCRAPPED\n",
    "scrapped_url = []\n",
    "file_path = os.path.join(\"./\", \"data_in_json.json\")  # join folder and file name\n",
    "file_exists = os.path.exists(file_path)\n",
    "if file_exists:\n",
    "    with open('data_in_json.json', 'r') as file:\n",
    "        data = json.load(file)\n",
    "    for item in data:\n",
    "        final_data.append(item)\n",
    "        scrapped_url.append(item[\"product_url\"])\n",
    "else:\n",
    "    print(\"No data_in_json.json file..\")\n",
    "\n",
    "\n",
    "for i, link in enumerate(links):\n",
    "    if i == 0 or link in scrapped_url:\n",
    "        continue\n",
    "    else:\n",
    "        driver.get(link)\n",
    "        startCounter()\n",
    "        print(link)\n",
    "        \n",
    "        product_name = giveProductName(driver)\n",
    "        per_unit_price, price = givePriceDetailes(driver)\n",
    "        highlights = giveHighlights(driver)\n",
    "        images = giveImagesLinks(driver)\n",
    "        description = giveDescription(driver)\n",
    "        product_category = giveCategories(driver)\n",
    "        other = giveOtherInformation(driver)\n",
    "\n",
    "        json_data = {\n",
    "            \"product_name\": product_name,\n",
    "            \"product_price_per_unit\": per_unit_price,\n",
    "            \"total_price\": price,\n",
    "            \"product_highlights\": highlights,\n",
    "            \"product_detail\": description,\n",
    "            \"product_images\": images,\n",
    "            \"product_url\": link,\n",
    "            \"product_category\": product_category,\n",
    "            \"more\": other\n",
    "        }\n",
    "        final_data.append(json_data)\n",
    "        json_string = json.dumps(final_data)\n",
    "        with open('data_in_json.json', 'w') as file:\n",
    "            file.write(json_string)"
   ]
  },
  {
   "cell_type": "code",
   "execution_count": null,
   "id": "6fc3ac6a",
   "metadata": {},
   "outputs": [],
   "source": []
  },
  {
   "cell_type": "code",
   "execution_count": null,
   "id": "0436c08d",
   "metadata": {},
   "outputs": [],
   "source": []
  },
  {
   "cell_type": "code",
   "execution_count": null,
   "id": "d62f5d03",
   "metadata": {},
   "outputs": [],
   "source": []
  },
  {
   "cell_type": "code",
   "execution_count": null,
   "id": "53445501",
   "metadata": {},
   "outputs": [],
   "source": []
  },
  {
   "cell_type": "code",
   "execution_count": null,
   "id": "97f14301",
   "metadata": {},
   "outputs": [],
   "source": []
  }
 ],
 "metadata": {
  "kernelspec": {
   "display_name": "Python 3 (ipykernel)",
   "language": "python",
   "name": "python3"
  },
  "language_info": {
   "codemirror_mode": {
    "name": "ipython",
    "version": 3
   },
   "file_extension": ".py",
   "mimetype": "text/x-python",
   "name": "python",
   "nbconvert_exporter": "python",
   "pygments_lexer": "ipython3",
   "version": "3.10.8"
  }
 },
 "nbformat": 4,
 "nbformat_minor": 5
}
